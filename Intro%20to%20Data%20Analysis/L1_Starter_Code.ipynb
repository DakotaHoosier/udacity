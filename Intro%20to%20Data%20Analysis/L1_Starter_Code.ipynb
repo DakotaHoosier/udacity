{
  "nbformat": 4,
  "nbformat_minor": 0,
  "metadata": {
    "colab": {
      "name": "L1_Starter_Code.ipynb",
      "version": "0.3.2",
      "provenance": [],
      "include_colab_link": true
    },
    "kernelspec": {
      "display_name": "Python 2",
      "language": "python",
      "name": "python2"
    }
  },
  "cells": [
    {
      "cell_type": "markdown",
      "metadata": {
        "id": "view-in-github",
        "colab_type": "text"
      },
      "source": [
        "[View in Colaboratory](https://colab.research.google.com/github/DakotaHoosier/udacity/blob/master/Intro%20to%20Data%20Analysis/L1_Starter_Code.ipynb)"
      ]
    },
    {
      "metadata": {
        "id": "XXoVtk7hDsCA",
        "colab_type": "text"
      },
      "cell_type": "markdown",
      "source": [
        "Before we get started, a couple of reminders to keep in mind when using iPython notebooks:\n",
        "\n",
        "- Remember that you can see from the left side of a code cell when it was last run if there is a number within the brackets.\n",
        "- When you start a new notebook session, make sure you run all of the cells up to the point where you last left off. Even if the output is still visible from when you ran the cells in your previous session, the kernel starts in a fresh state so you'll need to reload the data, etc. on a new session.\n",
        "- The previous point is useful to keep in mind if your answers do not match what is expected in the lesson's quizzes. Try reloading the data and run all of the processing steps one by one in order to make sure that you are working with the same variables and data that are at each quiz stage.\n",
        "\n",
        "\n",
        "## Load Data from CSVs"
      ]
    },
    {
      "metadata": {
        "id": "InhUA08YDsCE",
        "colab_type": "code",
        "colab": {
          "base_uri": "https://localhost:8080/",
          "height": 405
        },
        "outputId": "224b036a-6a7e-4d7d-bb3e-8c84ab2fb61f"
      },
      "cell_type": "code",
      "source": [
        "!pip install unicodecsv\n",
        "import unicodecsv\n",
        "\n",
        "## Longer version of code (replaced with shorter, equivalent version below)\n",
        "\n",
        "# enrollments = []\n",
        "# f = open('enrollments.csv', 'rb')\n",
        "# reader = unicodecsv.DictReader(f)\n",
        "# for row in reader:\n",
        "#     enrollments.append(row)\n",
        "# f.close()\n",
        "\n",
        "with open('enrollments.csv', 'rb') as f:\n",
        "    reader = unicodecsv.DictReader(f)\n",
        "    enrollments = list(reader)"
      ],
      "execution_count": 3,
      "outputs": [
        {
          "output_type": "stream",
          "text": [
            "Collecting unicodecsv\n",
            "  Downloading https://files.pythonhosted.org/packages/6f/a4/691ab63b17505a26096608cc309960b5a6bdf39e4ba1a793d5f9b1a53270/unicodecsv-0.14.1.tar.gz\n",
            "Building wheels for collected packages: unicodecsv\n",
            "  Running setup.py bdist_wheel for unicodecsv ... \u001b[?25l-\b \b\\\b \bdone\n",
            "\u001b[?25h  Stored in directory: /root/.cache/pip/wheels/a6/09/e9/e800279c98a0a8c94543f3de6c8a562f60e51363ed26e71283\n",
            "Successfully built unicodecsv\n",
            "Installing collected packages: unicodecsv\n",
            "Successfully installed unicodecsv-0.14.1\n"
          ],
          "name": "stdout"
        },
        {
          "output_type": "error",
          "ename": "IOError",
          "evalue": "ignored",
          "traceback": [
            "\u001b[0;31m\u001b[0m",
            "\u001b[0;31mIOError\u001b[0mTraceback (most recent call last)",
            "\u001b[0;32m<ipython-input-3-f64b9624312b>\u001b[0m in \u001b[0;36m<module>\u001b[0;34m()\u001b[0m\n\u001b[1;32m     11\u001b[0m \u001b[0;31m# f.close()\u001b[0m\u001b[0;34m\u001b[0m\u001b[0;34m\u001b[0m\u001b[0m\n\u001b[1;32m     12\u001b[0m \u001b[0;34m\u001b[0m\u001b[0m\n\u001b[0;32m---> 13\u001b[0;31m \u001b[0;32mwith\u001b[0m \u001b[0mopen\u001b[0m\u001b[0;34m(\u001b[0m\u001b[0;34m'enrollments.csv'\u001b[0m\u001b[0;34m,\u001b[0m \u001b[0;34m'rb'\u001b[0m\u001b[0;34m)\u001b[0m \u001b[0;32mas\u001b[0m \u001b[0mf\u001b[0m\u001b[0;34m:\u001b[0m\u001b[0;34m\u001b[0m\u001b[0m\n\u001b[0m\u001b[1;32m     14\u001b[0m     \u001b[0mreader\u001b[0m \u001b[0;34m=\u001b[0m \u001b[0municodecsv\u001b[0m\u001b[0;34m.\u001b[0m\u001b[0mDictReader\u001b[0m\u001b[0;34m(\u001b[0m\u001b[0mf\u001b[0m\u001b[0;34m)\u001b[0m\u001b[0;34m\u001b[0m\u001b[0m\n\u001b[1;32m     15\u001b[0m     \u001b[0menrollments\u001b[0m \u001b[0;34m=\u001b[0m \u001b[0mlist\u001b[0m\u001b[0;34m(\u001b[0m\u001b[0mreader\u001b[0m\u001b[0;34m)\u001b[0m\u001b[0;34m\u001b[0m\u001b[0m\n",
            "\u001b[0;31mIOError\u001b[0m: [Errno 2] No such file or directory: 'enrollments.csv'"
          ]
        }
      ]
    },
    {
      "metadata": {
        "id": "w3pxH1xoDsCO",
        "colab_type": "code",
        "colab": {}
      },
      "cell_type": "code",
      "source": [
        "#####################################\n",
        "#                 1                 #\n",
        "#####################################\n",
        "\n",
        "## Read in the data from daily_engagement.csv and project_submissions.csv \n",
        "## and store the results in the below variables.\n",
        "## Then look at the first row of each table.\n",
        "\n",
        "daily_engagement = \n",
        "project_submissions = "
      ],
      "execution_count": 0,
      "outputs": []
    },
    {
      "metadata": {
        "id": "bPfY6ZL7DsCU",
        "colab_type": "text"
      },
      "cell_type": "markdown",
      "source": [
        "## Fixing Data Types"
      ]
    },
    {
      "metadata": {
        "id": "HSQ_f7FpDsCX",
        "colab_type": "code",
        "colab": {}
      },
      "cell_type": "code",
      "source": [
        "from datetime import datetime as dt\n",
        "\n",
        "# Takes a date as a string, and returns a Python datetime object. \n",
        "# If there is no date given, returns None\n",
        "def parse_date(date):\n",
        "    if date == '':\n",
        "        return None\n",
        "    else:\n",
        "        return dt.strptime(date, '%Y-%m-%d')\n",
        "    \n",
        "# Takes a string which is either an empty string or represents an integer,\n",
        "# and returns an int or None.\n",
        "def parse_maybe_int(i):\n",
        "    if i == '':\n",
        "        return None\n",
        "    else:\n",
        "        return int(i)\n",
        "\n",
        "# Clean up the data types in the enrollments table\n",
        "for enrollment in enrollments:\n",
        "    enrollment['cancel_date'] = parse_date(enrollment['cancel_date'])\n",
        "    enrollment['days_to_cancel'] = parse_maybe_int(enrollment['days_to_cancel'])\n",
        "    enrollment['is_canceled'] = enrollment['is_canceled'] == 'True'\n",
        "    enrollment['is_udacity'] = enrollment['is_udacity'] == 'True'\n",
        "    enrollment['join_date'] = parse_date(enrollment['join_date'])\n",
        "    \n",
        "enrollments[0]"
      ],
      "execution_count": 0,
      "outputs": []
    },
    {
      "metadata": {
        "id": "a7mi23KdDsCe",
        "colab_type": "code",
        "colab": {}
      },
      "cell_type": "code",
      "source": [
        "# Clean up the data types in the engagement table\n",
        "for engagement_record in daily_engagement:\n",
        "    engagement_record['lessons_completed'] = int(float(engagement_record['lessons_completed']))\n",
        "    engagement_record['num_courses_visited'] = int(float(engagement_record['num_courses_visited']))\n",
        "    engagement_record['projects_completed'] = int(float(engagement_record['projects_completed']))\n",
        "    engagement_record['total_minutes_visited'] = float(engagement_record['total_minutes_visited'])\n",
        "    engagement_record['utc_date'] = parse_date(engagement_record['utc_date'])\n",
        "    \n",
        "daily_engagement[0]"
      ],
      "execution_count": 0,
      "outputs": []
    },
    {
      "metadata": {
        "id": "fxNJRXkvDsCl",
        "colab_type": "code",
        "colab": {}
      },
      "cell_type": "code",
      "source": [
        "# Clean up the data types in the submissions table\n",
        "for submission in project_submissions:\n",
        "    submission['completion_date'] = parse_date(submission['completion_date'])\n",
        "    submission['creation_date'] = parse_date(submission['creation_date'])\n",
        "\n",
        "project_submissions[0]"
      ],
      "execution_count": 0,
      "outputs": []
    },
    {
      "metadata": {
        "id": "JReqWqXFDsCs",
        "colab_type": "text"
      },
      "cell_type": "markdown",
      "source": [
        "Note when running the above cells that we are actively changing the contents of our data variables. If you try to run these cells multiple times in the same session, an error will occur.\n",
        "\n",
        "## Investigating the Data"
      ]
    },
    {
      "metadata": {
        "id": "XiUl51ttDsCt",
        "colab_type": "code",
        "colab": {}
      },
      "cell_type": "code",
      "source": [
        "#####################################\n",
        "#                 2                 #\n",
        "#####################################\n",
        "\n",
        "## Find the total number of rows and the number of unique students (account keys)\n",
        "## in each table."
      ],
      "execution_count": 0,
      "outputs": []
    },
    {
      "metadata": {
        "id": "88N-PJTeDsC1",
        "colab_type": "text"
      },
      "cell_type": "markdown",
      "source": [
        "## Problems in the Data"
      ]
    },
    {
      "metadata": {
        "id": "VS9L3gIkDsC3",
        "colab_type": "code",
        "colab": {}
      },
      "cell_type": "code",
      "source": [
        "#####################################\n",
        "#                 3                 #\n",
        "#####################################\n",
        "\n",
        "## Rename the \"acct\" column in the daily_engagement table to \"account_key\"."
      ],
      "execution_count": 0,
      "outputs": []
    },
    {
      "metadata": {
        "id": "lTqMUCUODsDA",
        "colab_type": "text"
      },
      "cell_type": "markdown",
      "source": [
        "## Missing Engagement Records"
      ]
    },
    {
      "metadata": {
        "id": "ZkJEsqxkDsDC",
        "colab_type": "code",
        "colab": {}
      },
      "cell_type": "code",
      "source": [
        "#####################################\n",
        "#                 4                 #\n",
        "#####################################\n",
        "\n",
        "## Find any one student enrollments where the student is missing from the daily engagement table.\n",
        "## Output that enrollment."
      ],
      "execution_count": 0,
      "outputs": []
    },
    {
      "metadata": {
        "id": "2H63sYmEDsDK",
        "colab_type": "text"
      },
      "cell_type": "markdown",
      "source": [
        "## Checking for More Problem Records"
      ]
    },
    {
      "metadata": {
        "id": "TGlUH6obDsDO",
        "colab_type": "code",
        "colab": {}
      },
      "cell_type": "code",
      "source": [
        "#####################################\n",
        "#                 5                 #\n",
        "#####################################\n",
        "\n",
        "## Find the number of surprising data points (enrollments missing from\n",
        "## the engagement table) that remain, if any."
      ],
      "execution_count": 0,
      "outputs": []
    },
    {
      "metadata": {
        "id": "9ImpPJKADsDU",
        "colab_type": "text"
      },
      "cell_type": "markdown",
      "source": [
        "## Tracking Down the Remaining Problems"
      ]
    },
    {
      "metadata": {
        "id": "jNkHcjyoDsDV",
        "colab_type": "code",
        "colab": {}
      },
      "cell_type": "code",
      "source": [
        "# Create a set of the account keys for all Udacity test accounts\n",
        "udacity_test_accounts = set()\n",
        "for enrollment in enrollments:\n",
        "    if enrollment['is_udacity']:\n",
        "        udacity_test_accounts.add(enrollment['account_key'])\n",
        "len(udacity_test_accounts)"
      ],
      "execution_count": 0,
      "outputs": []
    },
    {
      "metadata": {
        "id": "aG3mSubsDsDb",
        "colab_type": "code",
        "colab": {}
      },
      "cell_type": "code",
      "source": [
        "# Given some data with an account_key field, removes any records corresponding to Udacity test accounts\n",
        "def remove_udacity_accounts(data):\n",
        "    non_udacity_data = []\n",
        "    for data_point in data:\n",
        "        if data_point['account_key'] not in udacity_test_accounts:\n",
        "            non_udacity_data.append(data_point)\n",
        "    return non_udacity_data"
      ],
      "execution_count": 0,
      "outputs": []
    },
    {
      "metadata": {
        "id": "c7e0s-USDsDk",
        "colab_type": "code",
        "colab": {}
      },
      "cell_type": "code",
      "source": [
        "# Remove Udacity test accounts from all three tables\n",
        "non_udacity_enrollments = remove_udacity_accounts(enrollments)\n",
        "non_udacity_engagement = remove_udacity_accounts(daily_engagement)\n",
        "non_udacity_submissions = remove_udacity_accounts(project_submissions)\n",
        "\n",
        "print len(non_udacity_enrollments)\n",
        "print len(non_udacity_engagement)\n",
        "print len(non_udacity_submissions)"
      ],
      "execution_count": 0,
      "outputs": []
    },
    {
      "metadata": {
        "id": "TfhDc7ZDDsDt",
        "colab_type": "text"
      },
      "cell_type": "markdown",
      "source": [
        "## Refining the Question"
      ]
    },
    {
      "metadata": {
        "id": "8GIsC2rSDsDw",
        "colab_type": "code",
        "colab": {}
      },
      "cell_type": "code",
      "source": [
        "#####################################\n",
        "#                 6                 #\n",
        "#####################################\n",
        "\n",
        "## Create a dictionary named paid_students containing all students who either\n",
        "## haven't canceled yet or who remained enrolled for more than 7 days. The keys\n",
        "## should be account keys, and the values should be the date the student enrolled.\n",
        "\n",
        "paid_students ="
      ],
      "execution_count": 0,
      "outputs": []
    },
    {
      "metadata": {
        "id": "1rjq287pDsD1",
        "colab_type": "text"
      },
      "cell_type": "markdown",
      "source": [
        "## Getting Data from First Week"
      ]
    },
    {
      "metadata": {
        "id": "rVjc33iiDsD4",
        "colab_type": "code",
        "colab": {}
      },
      "cell_type": "code",
      "source": [
        "# Takes a student's join date and the date of a specific engagement record,\n",
        "# and returns True if that engagement record happened within one week\n",
        "# of the student joining.\n",
        "def within_one_week(join_date, engagement_date):\n",
        "    time_delta = engagement_date - join_date\n",
        "    return time_delta.days < 7"
      ],
      "execution_count": 0,
      "outputs": []
    },
    {
      "metadata": {
        "id": "VnKTy5wzDsEC",
        "colab_type": "code",
        "colab": {}
      },
      "cell_type": "code",
      "source": [
        "#####################################\n",
        "#                 7                 #\n",
        "#####################################\n",
        "\n",
        "## Create a list of rows from the engagement table including only rows where\n",
        "## the student is one of the paid students you just found, and the date is within\n",
        "## one week of the student's join date.\n",
        "\n",
        "paid_engagement_in_first_week = "
      ],
      "execution_count": 0,
      "outputs": []
    },
    {
      "metadata": {
        "id": "eXV8CdN7DsEJ",
        "colab_type": "text"
      },
      "cell_type": "markdown",
      "source": [
        "## Exploring Student Engagement"
      ]
    },
    {
      "metadata": {
        "id": "Br0nDBISDsEL",
        "colab_type": "code",
        "colab": {}
      },
      "cell_type": "code",
      "source": [
        "from collections import defaultdict\n",
        "\n",
        "# Create a dictionary of engagement grouped by student.\n",
        "# The keys are account keys, and the values are lists of engagement records.\n",
        "engagement_by_account = defaultdict(list)\n",
        "for engagement_record in paid_engagement_in_first_week:\n",
        "    account_key = engagement_record['account_key']\n",
        "    engagement_by_account[account_key].append(engagement_record)"
      ],
      "execution_count": 0,
      "outputs": []
    },
    {
      "metadata": {
        "id": "a3YLy6I7DsER",
        "colab_type": "code",
        "colab": {}
      },
      "cell_type": "code",
      "source": [
        "# Create a dictionary with the total minutes each student spent in the classroom during the first week.\n",
        "# The keys are account keys, and the values are numbers (total minutes)\n",
        "total_minutes_by_account = {}\n",
        "for account_key, engagement_for_student in engagement_by_account.items():\n",
        "    total_minutes = 0\n",
        "    for engagement_record in engagement_for_student:\n",
        "        total_minutes += engagement_record['total_minutes_visited']\n",
        "    total_minutes_by_account[account_key] = total_minutes"
      ],
      "execution_count": 0,
      "outputs": []
    },
    {
      "metadata": {
        "id": "dd0mrc6PDsEY",
        "colab_type": "code",
        "colab": {}
      },
      "cell_type": "code",
      "source": [
        "import numpy as np\n",
        "\n",
        "# Summarize the data about minutes spent in the classroom\n",
        "total_minutes = total_minutes_by_account.values()\n",
        "print 'Mean:', np.mean(total_minutes)\n",
        "print 'Standard deviation:', np.std(total_minutes)\n",
        "print 'Minimum:', np.min(total_minutes)\n",
        "print 'Maximum:', np.max(total_minutes)"
      ],
      "execution_count": 0,
      "outputs": []
    },
    {
      "metadata": {
        "id": "bNI6MaApDsEd",
        "colab_type": "text"
      },
      "cell_type": "markdown",
      "source": [
        "## Debugging Data Analysis Code"
      ]
    },
    {
      "metadata": {
        "id": "jdlRyUbODsEf",
        "colab_type": "code",
        "colab": {}
      },
      "cell_type": "code",
      "source": [
        "#####################################\n",
        "#                 8                 #\n",
        "#####################################\n",
        "\n",
        "## Go through a similar process as before to see if there is a problem.\n",
        "## Locate at least one surprising piece of data, output it, and take a look at it."
      ],
      "execution_count": 0,
      "outputs": []
    },
    {
      "metadata": {
        "id": "aEoQ86DhDsEj",
        "colab_type": "text"
      },
      "cell_type": "markdown",
      "source": [
        "## Lessons Completed in First Week"
      ]
    },
    {
      "metadata": {
        "id": "SuHaf9cyDsEl",
        "colab_type": "code",
        "colab": {}
      },
      "cell_type": "code",
      "source": [
        "#####################################\n",
        "#                 9                 #\n",
        "#####################################\n",
        "\n",
        "## Adapt the code above to find the mean, standard deviation, minimum, and maximum for\n",
        "## the number of lessons completed by each student during the first week. Try creating\n",
        "## one or more functions to re-use the code above."
      ],
      "execution_count": 0,
      "outputs": []
    },
    {
      "metadata": {
        "id": "Uk7t7iC-DsEp",
        "colab_type": "text"
      },
      "cell_type": "markdown",
      "source": [
        "## Number of Visits in First Week"
      ]
    },
    {
      "metadata": {
        "id": "N4TmMlZUDsEu",
        "colab_type": "code",
        "colab": {}
      },
      "cell_type": "code",
      "source": [
        "######################################\n",
        "#                 10                 #\n",
        "######################################\n",
        "\n",
        "## Find the mean, standard deviation, minimum, and maximum for the number of\n",
        "## days each student visits the classroom during the first week."
      ],
      "execution_count": 0,
      "outputs": []
    },
    {
      "metadata": {
        "id": "2n46bLQ7DsE2",
        "colab_type": "text"
      },
      "cell_type": "markdown",
      "source": [
        "## Splitting out Passing Students"
      ]
    },
    {
      "metadata": {
        "id": "SDsum_hsDsE4",
        "colab_type": "code",
        "colab": {}
      },
      "cell_type": "code",
      "source": [
        "######################################\n",
        "#                 11                 #\n",
        "######################################\n",
        "\n",
        "## Create two lists of engagement data for paid students in the first week.\n",
        "## The first list should contain data for students who eventually pass the\n",
        "## subway project, and the second list should contain data for students\n",
        "## who do not.\n",
        "\n",
        "subway_project_lesson_keys = ['746169184', '3176718735']\n",
        "\n",
        "passing_engagement =\n",
        "non_passing_engagement ="
      ],
      "execution_count": 0,
      "outputs": []
    },
    {
      "metadata": {
        "id": "mFHH2_jUDsE_",
        "colab_type": "text"
      },
      "cell_type": "markdown",
      "source": [
        "## Comparing the Two Student Groups"
      ]
    },
    {
      "metadata": {
        "id": "s1vYwsAnDsFB",
        "colab_type": "code",
        "colab": {}
      },
      "cell_type": "code",
      "source": [
        "######################################\n",
        "#                 12                 #\n",
        "######################################\n",
        "\n",
        "## Compute some metrics you're interested in and see how they differ for\n",
        "## students who pass the subway project vs. students who don't. A good\n",
        "## starting point would be the metrics we looked at earlier (minutes spent\n",
        "## in the classroom, lessons completed, and days visited)."
      ],
      "execution_count": 0,
      "outputs": []
    },
    {
      "metadata": {
        "id": "ZT62QbGdDsFJ",
        "colab_type": "text"
      },
      "cell_type": "markdown",
      "source": [
        "## Making Histograms"
      ]
    },
    {
      "metadata": {
        "id": "nfNGisbLDsFO",
        "colab_type": "code",
        "colab": {}
      },
      "cell_type": "code",
      "source": [
        "######################################\n",
        "#                 13                 #\n",
        "######################################\n",
        "\n",
        "## Make histograms of the three metrics we looked at earlier for both\n",
        "## students who passed the subway project and students who didn't. You\n",
        "## might also want to make histograms of any other metrics you examined."
      ],
      "execution_count": 0,
      "outputs": []
    },
    {
      "metadata": {
        "id": "cUK49rgcDsFT",
        "colab_type": "text"
      },
      "cell_type": "markdown",
      "source": [
        "## Improving Plots and Sharing Findings"
      ]
    },
    {
      "metadata": {
        "id": "Rbuy4tT0DsFX",
        "colab_type": "code",
        "colab": {}
      },
      "cell_type": "code",
      "source": [
        "######################################\n",
        "#                 14                 #\n",
        "######################################\n",
        "\n",
        "## Make a more polished version of at least one of your visualizations\n",
        "## from earlier. Try importing the seaborn library to make the visualization\n",
        "## look better, adding axis labels and a title, and changing one or more\n",
        "## arguments to the hist() function."
      ],
      "execution_count": 0,
      "outputs": []
    }
  ]
}